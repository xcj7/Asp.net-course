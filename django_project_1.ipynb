{
  "nbformat": 4,
  "nbformat_minor": 0,
  "metadata": {
    "colab": {
      "provenance": [],
      "collapsed_sections": [],
      "authorship_tag": "ABX9TyPgeApSzio6OstqK1F0zHxy",
      "include_colab_link": true
    },
    "kernelspec": {
      "name": "python3",
      "display_name": "Python 3"
    },
    "language_info": {
      "name": "python"
    }
  },
  "cells": [
    {
      "cell_type": "markdown",
      "metadata": {
        "id": "view-in-github",
        "colab_type": "text"
      },
      "source": [
        "<a href=\"https://colab.research.google.com/github/xcj7/Asp.net-course/blob/master/django_project_1.ipynb\" target=\"_parent\"><img src=\"https://colab.research.google.com/assets/colab-badge.svg\" alt=\"Open In Colab\"/></a>"
      ]
    },
    {
      "cell_type": "code",
      "execution_count": null,
      "metadata": {
        "colab": {
          "base_uri": "https://localhost:8080/"
        },
        "id": "dZWhfhz_AV3Z",
        "outputId": "bc518ef4-b34f-454a-c721-14c0e568fe9e"
      },
      "outputs": [
        {
          "output_type": "stream",
          "name": "stdout",
          "text": [
            "Looking in indexes: https://pypi.org/simple, https://us-python.pkg.dev/colab-wheels/public/simple/\n",
            "Collecting django\n",
            "  Downloading Django-3.2.16-py3-none-any.whl (7.9 MB)\n",
            "\u001b[K     |████████████████████████████████| 7.9 MB 4.2 MB/s \n",
            "\u001b[?25hCollecting asgiref<4,>=3.3.2\n",
            "  Downloading asgiref-3.5.2-py3-none-any.whl (22 kB)\n",
            "Requirement already satisfied: sqlparse>=0.2.2 in /usr/local/lib/python3.7/dist-packages (from django) (0.4.3)\n",
            "Requirement already satisfied: pytz in /usr/local/lib/python3.7/dist-packages (from django) (2022.5)\n",
            "Requirement already satisfied: typing-extensions in /usr/local/lib/python3.7/dist-packages (from asgiref<4,>=3.3.2->django) (4.1.1)\n",
            "Installing collected packages: asgiref, django\n",
            "Successfully installed asgiref-3.5.2 django-3.2.16\n"
          ]
        }
      ],
      "source": [
        "!pip install django\n"
      ]
    },
    {
      "cell_type": "code",
      "source": [
        "!django-admin startproject HelloWorld"
      ],
      "metadata": {
        "id": "5g8LPxapAt-I"
      },
      "execution_count": null,
      "outputs": []
    },
    {
      "cell_type": "code",
      "source": [
        "%cd HelloWorld"
      ],
      "metadata": {
        "colab": {
          "base_uri": "https://localhost:8080/"
        },
        "id": "AGh8XFg1AuGf",
        "outputId": "05fe34bf-6989-4f99-f764-09d4cc5c8d77"
      },
      "execution_count": null,
      "outputs": [
        {
          "output_type": "stream",
          "name": "stdout",
          "text": [
            "/content/HelloWorld\n"
          ]
        }
      ]
    },
    {
      "cell_type": "code",
      "source": [
        "!python manage.py startapp HelloWorld_App"
      ],
      "metadata": {
        "id": "4F3IoNReAuKb"
      },
      "execution_count": null,
      "outputs": []
    },
    {
      "cell_type": "code",
      "source": [
        "%cd HelloWorld_App"
      ],
      "metadata": {
        "colab": {
          "base_uri": "https://localhost:8080/"
        },
        "id": "PO4PqZC2AuNx",
        "outputId": "d52fd702-73a7-4a21-ecec-a53165ed7a2d"
      },
      "execution_count": null,
      "outputs": [
        {
          "output_type": "stream",
          "name": "stdout",
          "text": [
            "/content/HelloWorld/HelloWorld_App\n"
          ]
        }
      ]
    },
    {
      "cell_type": "code",
      "source": [
        "%%writefile views.py\n",
        "from django.http import HttpResponse\n",
        "def foo(request):\n",
        "  return HttpResponse(\"Hello World ! \")"
      ],
      "metadata": {
        "colab": {
          "base_uri": "https://localhost:8080/"
        },
        "id": "SsbwQI6WAuUX",
        "outputId": "aa8b5de8-5142-43f6-cee0-d81454098d6d"
      },
      "execution_count": null,
      "outputs": [
        {
          "output_type": "stream",
          "name": "stdout",
          "text": [
            "Overwriting views.py\n"
          ]
        }
      ]
    },
    {
      "cell_type": "code",
      "source": [
        "!pip install pyngrok --quiet"
      ],
      "metadata": {
        "id": "gNZO6RCZAuXx",
        "colab": {
          "base_uri": "https://localhost:8080/"
        },
        "outputId": "423610b8-7c12-4c1b-a88a-60663b338340"
      },
      "execution_count": null,
      "outputs": [
        {
          "output_type": "stream",
          "name": "stdout",
          "text": [
            "\u001b[?25l\r\u001b[K     |▍                               | 10 kB 21.4 MB/s eta 0:00:01\r\u001b[K     |▉                               | 20 kB 5.9 MB/s eta 0:00:01\r\u001b[K     |█▎                              | 30 kB 8.4 MB/s eta 0:00:01\r\u001b[K     |█▊                              | 40 kB 3.6 MB/s eta 0:00:01\r\u001b[K     |██▏                             | 51 kB 3.7 MB/s eta 0:00:01\r\u001b[K     |██▋                             | 61 kB 4.4 MB/s eta 0:00:01\r\u001b[K     |███                             | 71 kB 4.6 MB/s eta 0:00:01\r\u001b[K     |███▌                            | 81 kB 4.9 MB/s eta 0:00:01\r\u001b[K     |████                            | 92 kB 5.5 MB/s eta 0:00:01\r\u001b[K     |████▍                           | 102 kB 4.2 MB/s eta 0:00:01\r\u001b[K     |████▉                           | 112 kB 4.2 MB/s eta 0:00:01\r\u001b[K     |█████▎                          | 122 kB 4.2 MB/s eta 0:00:01\r\u001b[K     |█████▊                          | 133 kB 4.2 MB/s eta 0:00:01\r\u001b[K     |██████▏                         | 143 kB 4.2 MB/s eta 0:00:01\r\u001b[K     |██████▋                         | 153 kB 4.2 MB/s eta 0:00:01\r\u001b[K     |███████                         | 163 kB 4.2 MB/s eta 0:00:01\r\u001b[K     |███████▌                        | 174 kB 4.2 MB/s eta 0:00:01\r\u001b[K     |████████                        | 184 kB 4.2 MB/s eta 0:00:01\r\u001b[K     |████████▍                       | 194 kB 4.2 MB/s eta 0:00:01\r\u001b[K     |████████▉                       | 204 kB 4.2 MB/s eta 0:00:01\r\u001b[K     |█████████▎                      | 215 kB 4.2 MB/s eta 0:00:01\r\u001b[K     |█████████▊                      | 225 kB 4.2 MB/s eta 0:00:01\r\u001b[K     |██████████▏                     | 235 kB 4.2 MB/s eta 0:00:01\r\u001b[K     |██████████▌                     | 245 kB 4.2 MB/s eta 0:00:01\r\u001b[K     |███████████                     | 256 kB 4.2 MB/s eta 0:00:01\r\u001b[K     |███████████▍                    | 266 kB 4.2 MB/s eta 0:00:01\r\u001b[K     |███████████▉                    | 276 kB 4.2 MB/s eta 0:00:01\r\u001b[K     |████████████▎                   | 286 kB 4.2 MB/s eta 0:00:01\r\u001b[K     |████████████▊                   | 296 kB 4.2 MB/s eta 0:00:01\r\u001b[K     |█████████████▏                  | 307 kB 4.2 MB/s eta 0:00:01\r\u001b[K     |█████████████▋                  | 317 kB 4.2 MB/s eta 0:00:01\r\u001b[K     |██████████████                  | 327 kB 4.2 MB/s eta 0:00:01\r\u001b[K     |██████████████▌                 | 337 kB 4.2 MB/s eta 0:00:01\r\u001b[K     |███████████████                 | 348 kB 4.2 MB/s eta 0:00:01\r\u001b[K     |███████████████▍                | 358 kB 4.2 MB/s eta 0:00:01\r\u001b[K     |███████████████▉                | 368 kB 4.2 MB/s eta 0:00:01\r\u001b[K     |████████████████▎               | 378 kB 4.2 MB/s eta 0:00:01\r\u001b[K     |████████████████▊               | 389 kB 4.2 MB/s eta 0:00:01\r\u001b[K     |█████████████████▏              | 399 kB 4.2 MB/s eta 0:00:01\r\u001b[K     |█████████████████▋              | 409 kB 4.2 MB/s eta 0:00:01\r\u001b[K     |██████████████████              | 419 kB 4.2 MB/s eta 0:00:01\r\u001b[K     |██████████████████▌             | 430 kB 4.2 MB/s eta 0:00:01\r\u001b[K     |███████████████████             | 440 kB 4.2 MB/s eta 0:00:01\r\u001b[K     |███████████████████▍            | 450 kB 4.2 MB/s eta 0:00:01\r\u001b[K     |███████████████████▉            | 460 kB 4.2 MB/s eta 0:00:01\r\u001b[K     |████████████████████▎           | 471 kB 4.2 MB/s eta 0:00:01\r\u001b[K     |████████████████████▋           | 481 kB 4.2 MB/s eta 0:00:01\r\u001b[K     |█████████████████████           | 491 kB 4.2 MB/s eta 0:00:01\r\u001b[K     |█████████████████████▌          | 501 kB 4.2 MB/s eta 0:00:01\r\u001b[K     |██████████████████████          | 512 kB 4.2 MB/s eta 0:00:01\r\u001b[K     |██████████████████████▍         | 522 kB 4.2 MB/s eta 0:00:01\r\u001b[K     |██████████████████████▉         | 532 kB 4.2 MB/s eta 0:00:01\r\u001b[K     |███████████████████████▎        | 542 kB 4.2 MB/s eta 0:00:01\r\u001b[K     |███████████████████████▊        | 552 kB 4.2 MB/s eta 0:00:01\r\u001b[K     |████████████████████████▏       | 563 kB 4.2 MB/s eta 0:00:01\r\u001b[K     |████████████████████████▋       | 573 kB 4.2 MB/s eta 0:00:01\r\u001b[K     |█████████████████████████       | 583 kB 4.2 MB/s eta 0:00:01\r\u001b[K     |█████████████████████████▌      | 593 kB 4.2 MB/s eta 0:00:01\r\u001b[K     |██████████████████████████      | 604 kB 4.2 MB/s eta 0:00:01\r\u001b[K     |██████████████████████████▍     | 614 kB 4.2 MB/s eta 0:00:01\r\u001b[K     |██████████████████████████▉     | 624 kB 4.2 MB/s eta 0:00:01\r\u001b[K     |███████████████████████████▎    | 634 kB 4.2 MB/s eta 0:00:01\r\u001b[K     |███████████████████████████▊    | 645 kB 4.2 MB/s eta 0:00:01\r\u001b[K     |████████████████████████████▏   | 655 kB 4.2 MB/s eta 0:00:01\r\u001b[K     |████████████████████████████▋   | 665 kB 4.2 MB/s eta 0:00:01\r\u001b[K     |█████████████████████████████   | 675 kB 4.2 MB/s eta 0:00:01\r\u001b[K     |█████████████████████████████▌  | 686 kB 4.2 MB/s eta 0:00:01\r\u001b[K     |██████████████████████████████  | 696 kB 4.2 MB/s eta 0:00:01\r\u001b[K     |██████████████████████████████▍ | 706 kB 4.2 MB/s eta 0:00:01\r\u001b[K     |██████████████████████████████▊ | 716 kB 4.2 MB/s eta 0:00:01\r\u001b[K     |███████████████████████████████▏| 727 kB 4.2 MB/s eta 0:00:01\r\u001b[K     |███████████████████████████████▋| 737 kB 4.2 MB/s eta 0:00:01\r\u001b[K     |████████████████████████████████| 745 kB 4.2 MB/s \n",
            "\u001b[?25h  Building wheel for pyngrok (setup.py) ... \u001b[?25l\u001b[?25hdone\n"
          ]
        }
      ]
    },
    {
      "cell_type": "code",
      "source": [],
      "metadata": {
        "id": "lwfajQEeAuao"
      },
      "execution_count": null,
      "outputs": []
    },
    {
      "cell_type": "code",
      "source": [
        "from pyngrok import ngrok\n",
        "\n",
        "#Terminate open tunnels if exist\n",
        "ngrok.kill()\n",
        "auth_token=\"\"\n",
        "ngrok.set_auth_token(auth_token)\n",
        "ngrok.connect(7000)"
      ],
      "metadata": {
        "colab": {
          "base_uri": "https://localhost:8080/"
        },
        "id": "NJt3yJ2YAugP",
        "outputId": "17f07c05-8414-4bf0-8a5a-f76a82b63d4c"
      },
      "execution_count": null,
      "outputs": [
        {
          "output_type": "execute_result",
          "data": {
            "text/plain": [
              "<NgrokTunnel: \"http://ee30-35-185-159-17.ngrok.io\" -> \"http://localhost:7000\">"
            ]
          },
          "metadata": {},
          "execution_count": 10
        }
      ]
    },
    {
      "cell_type": "code",
      "source": [
        "%cd /content/HelloWorld"
      ],
      "metadata": {
        "colab": {
          "base_uri": "https://localhost:8080/"
        },
        "id": "mKll3EoZAul_",
        "outputId": "4fd27dc1-58a8-43f2-ec19-7d9f36b0002d"
      },
      "execution_count": null,
      "outputs": [
        {
          "output_type": "stream",
          "name": "stdout",
          "text": [
            "/content/HelloWorld\n"
          ]
        }
      ]
    },
    {
      "cell_type": "code",
      "source": [
        "!python manage.py migrate"
      ],
      "metadata": {
        "colab": {
          "base_uri": "https://localhost:8080/"
        },
        "id": "C37vmu2PAupQ",
        "outputId": "1131921b-7d6a-4a48-9033-39c001fffc2c"
      },
      "execution_count": null,
      "outputs": [
        {
          "output_type": "stream",
          "name": "stdout",
          "text": [
            "\u001b[36;1mOperations to perform:\u001b[0m\n",
            "\u001b[1m  Apply all migrations: \u001b[0madmin, auth, contenttypes, sessions\n",
            "\u001b[36;1mRunning migrations:\u001b[0m\n",
            "  Applying contenttypes.0001_initial...\u001b[32;1m OK\u001b[0m\n",
            "  Applying auth.0001_initial...\u001b[32;1m OK\u001b[0m\n",
            "  Applying admin.0001_initial...\u001b[32;1m OK\u001b[0m\n",
            "  Applying admin.0002_logentry_remove_auto_add...\u001b[32;1m OK\u001b[0m\n",
            "  Applying admin.0003_logentry_add_action_flag_choices...\u001b[32;1m OK\u001b[0m\n",
            "  Applying contenttypes.0002_remove_content_type_name...\u001b[32;1m OK\u001b[0m\n",
            "  Applying auth.0002_alter_permission_name_max_length...\u001b[32;1m OK\u001b[0m\n",
            "  Applying auth.0003_alter_user_email_max_length...\u001b[32;1m OK\u001b[0m\n",
            "  Applying auth.0004_alter_user_username_opts...\u001b[32;1m OK\u001b[0m\n",
            "  Applying auth.0005_alter_user_last_login_null...\u001b[32;1m OK\u001b[0m\n",
            "  Applying auth.0006_require_contenttypes_0002...\u001b[32;1m OK\u001b[0m\n",
            "  Applying auth.0007_alter_validators_add_error_messages...\u001b[32;1m OK\u001b[0m\n",
            "  Applying auth.0008_alter_user_username_max_length...\u001b[32;1m OK\u001b[0m\n",
            "  Applying auth.0009_alter_user_last_name_max_length...\u001b[32;1m OK\u001b[0m\n",
            "  Applying auth.0010_alter_group_name_max_length...\u001b[32;1m OK\u001b[0m\n",
            "  Applying auth.0011_update_proxy_permissions...\u001b[32;1m OK\u001b[0m\n",
            "  Applying auth.0012_alter_user_first_name_max_length...\u001b[32;1m OK\u001b[0m\n",
            "  Applying sessions.0001_initial...\u001b[32;1m OK\u001b[0m\n"
          ]
        }
      ]
    },
    {
      "cell_type": "code",
      "source": [
        "!python manage.py runserver 7000"
      ],
      "metadata": {
        "id": "a7_bJBKrAusx",
        "colab": {
          "base_uri": "https://localhost:8080/"
        },
        "outputId": "a9676495-9bcf-4850-beab-3d899e242b62"
      },
      "execution_count": null,
      "outputs": [
        {
          "output_type": "stream",
          "name": "stdout",
          "text": [
            "Watching for file changes with StatReloader\n",
            "Performing system checks...\n",
            "\n",
            "System check identified no issues (0 silenced).\n",
            "October 27, 2022 - 11:18:39\n",
            "Django version 3.2.16, using settings 'HelloWorld.settings'\n",
            "Starting development server at http://127.0.0.1:7000/\n",
            "Quit the server with CONTROL-C.\n"
          ]
        }
      ]
    },
    {
      "cell_type": "code",
      "source": [],
      "metadata": {
        "id": "pM2vXTBWAuwH"
      },
      "execution_count": null,
      "outputs": []
    },
    {
      "cell_type": "code",
      "source": [],
      "metadata": {
        "id": "X4nx9h5KAvT4"
      },
      "execution_count": null,
      "outputs": []
    },
    {
      "cell_type": "code",
      "source": [],
      "metadata": {
        "id": "NKvWri5YAvWy"
      },
      "execution_count": null,
      "outputs": []
    },
    {
      "cell_type": "code",
      "source": [],
      "metadata": {
        "id": "2WyZzrYUAvZa"
      },
      "execution_count": null,
      "outputs": []
    },
    {
      "cell_type": "code",
      "source": [],
      "metadata": {
        "id": "UMpc3DLDAvcK"
      },
      "execution_count": null,
      "outputs": []
    },
    {
      "cell_type": "code",
      "source": [],
      "metadata": {
        "id": "YGSEEh1NAvem"
      },
      "execution_count": null,
      "outputs": []
    }
  ]
}